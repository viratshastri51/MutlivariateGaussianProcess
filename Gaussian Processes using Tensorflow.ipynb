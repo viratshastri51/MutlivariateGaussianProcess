{
 "cells": [
  {
   "cell_type": "code",
   "execution_count": 1,
   "id": "00545100",
   "metadata": {},
   "outputs": [],
   "source": [
    "import pandas as pd\n",
    "import numpy as np\n",
    "import matplotlib.pyplot as plt\n",
    "import tensorflow as tf"
   ]
  },
  {
   "cell_type": "code",
   "execution_count": 2,
   "id": "8ead8914",
   "metadata": {},
   "outputs": [],
   "source": [
    "x = np.linspace(0.1, 100, 200)\n",
    "y = np.log(x) * x"
   ]
  },
  {
   "cell_type": "code",
   "execution_count": 13,
   "id": "5e588757",
   "metadata": {},
   "outputs": [
    {
     "data": {
      "image/png": "[encoded data removed]",
      "text/plain": [
       "<Figure size 432x288 with 1 Axes>"
      ]
     },
     "metadata": {
      "needs_background": "light"
     },
     "output_type": "display_data"
    }
   ],
   "source": [
    "plt.plot(x, y, color = 'yellow', linewidth = 5)\n",
    "plt.xlabel('x')\n",
    "plt.ylabel('xlog(x)')\n",
    "plt.show()"
   ]
  },
  {
   "cell_type": "code",
   "execution_count": 4,
   "id": "6160062f",
   "metadata": {},
   "outputs": [],
   "source": [
    "from sklearn.gaussian_process import GaussianProcessRegressor\n",
    "from sklearn.gaussian_process.kernels import RBF\n",
    "from sklearn.model_selection import train_test_split"
   ]
  },
  {
   "cell_type": "code",
   "execution_count": 5,
   "id": "b506a256",
   "metadata": {},
   "outputs": [],
   "source": [
    "noise = np.random.random(20) + 1\n",
    "x_train = np.linspace(.1, 75, 20) + noise\n",
    "y_train = ((np.log(x_train))*(x_train))"
   ]
  },
  {
   "cell_type": "code",
   "execution_count": 6,
   "id": "39e8faec",
   "metadata": {},
   "outputs": [],
   "source": [
    "x_train = pd.DataFrame(x_train)\n",
    "y_train = pd.DataFrame(y_train)"
   ]
  },
  {
   "cell_type": "code",
   "execution_count": 7,
   "id": "5d92d779",
   "metadata": {},
   "outputs": [
    {
     "name": "stderr",
     "output_type": "stream",
     "text": [
      "C:\\Users\\Mayur\\anaconda3\\lib\\site-packages\\sklearn\\gaussian_process\\_gpr.py:610: ConvergenceWarning: lbfgs failed to converge (status=2):\n",
      "ABNORMAL_TERMINATION_IN_LNSRCH.\n",
      "\n",
      "Increase the number of iterations (max_iter) or scale the data as shown in:\n",
      "    https://scikit-learn.org/stable/modules/preprocessing.html\n",
      "  _check_optimize_result(\"lbfgs\", opt_res)\n"
     ]
    },
    {
     "data": {
      "text/plain": [
       "212**2 * RBF(length_scale=14.2)"
      ]
     },
     "execution_count": 7,
     "metadata": {},
     "output_type": "execute_result"
    }
   ],
   "source": [
    "sigma_square = 1\n",
    "kernel1 = sigma_square * RBF(length_scale= 1.0, length_scale_bounds=(1e-2, 1e2))\n",
    "gaussian_process = GaussianProcessRegressor(kernel=kernel1, n_restarts_optimizer=9)\n",
    "gaussian_process.fit(x_train, y_train)\n",
    "gaussian_process.kernel_"
   ]
  },
  {
   "cell_type": "code",
   "execution_count": 8,
   "id": "c4ada111",
   "metadata": {},
   "outputs": [],
   "source": [
    "test_noise = np.random.random(10) + 1\n",
    "x_test = pd.DataFrame(np.linspace(0.1, 75, 10) + test_noise)\n",
    "y_test = pd.DataFrame(np.log(x_test) * x_test)"
   ]
  },
  {
   "cell_type": "code",
   "execution_count": 9,
   "id": "f5cff627",
   "metadata": {},
   "outputs": [],
   "source": [
    "final_predictions, std_predictions = gaussian_process.predict(x_test, return_std=True)"
   ]
  },
  {
   "cell_type": "code",
   "execution_count": 10,
   "id": "a45122cb",
   "metadata": {},
   "outputs": [
    {
     "data": {
      "text/plain": [
       "array([[  1.43241227],\n",
       "       [ 23.26515937],\n",
       "       [ 53.94628859],\n",
       "       [ 85.31561661],\n",
       "       [124.6253376 ],\n",
       "       [163.60578489],\n",
       "       [204.09037256],\n",
       "       [243.20965099],\n",
       "       [287.58364081],\n",
       "       [334.33780664]])"
      ]
     },
     "execution_count": 10,
     "metadata": {},
     "output_type": "execute_result"
    }
   ],
   "source": [
    "final_predictions"
   ]
  },
  {
   "cell_type": "code",
   "execution_count": 14,
   "id": "c4cefe2b",
   "metadata": {},
   "outputs": [
    {
     "data": {
      "text/plain": [
       "Text(0, 0.5, 'xlog(x)')"
      ]
     },
     "execution_count": 14,
     "metadata": {},
     "output_type": "execute_result"
    },
    {
     "data": {
      "image/png": "[encoded data removed]",
      "text/plain": [
       "<Figure size 432x288 with 1 Axes>"
      ]
     },
     "metadata": {
      "needs_background": "light"
     },
     "output_type": "display_data"
    }
   ],
   "source": [
    "plt.plot(x, y, color = 'yellow', linewidth = 5)\n",
    "\n",
    "plt.plot(x_test.values, y_test.values, color = 'red')\n",
    "\n",
    "plt.scatter(x_test.values, final_predictions, color = 'blue', linewidth = 5)\n",
    "\n",
    "plt.legend(['actual function','train_points', 'test_points'])\n",
    "\n",
    "plt.xlabel('x')\n",
    "\n",
    "plt.ylabel('xlog(x)')"
   ]
  },
  {
   "cell_type": "code",
   "execution_count": null,
   "id": "8903abd6",
   "metadata": {},
   "outputs": [],
   "source": []
  }
 ],
 "metadata": {
  "kernelspec": {
   "display_name": "Python 3 (ipykernel)",
   "language": "python",
   "name": "python3"
  },
  "language_info": {
   "codemirror_mode": {
    "name": "ipython",
    "version": 3
   },
   "file_extension": ".py",
   "mimetype": "text/x-python",
   "name": "python",
   "nbconvert_exporter": "python",
   "pygments_lexer": "ipython3",
   "version": "3.9.12"
  }
 },
 "nbformat": 4,
 "nbformat_minor": 5
}
