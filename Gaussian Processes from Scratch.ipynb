{
 "cells": [
  {
   "cell_type": "code",
   "execution_count": 1,
   "id": "907fad96",
   "metadata": {},
   "outputs": [],
   "source": [
    "import numpy as np\n",
    "import pandas as pd\n",
    "from scipy import spatial\n",
    "import matplotlib.pyplot as plt\n",
    "import numpy.linalg as lng\n",
    "import seaborn as sns"
   ]
  },
  {
   "cell_type": "markdown",
   "id": "330e980c",
   "metadata": {},
   "source": [
    "# Data Generation"
   ]
  },
  {
   "cell_type": "code",
   "execution_count": 2,
   "id": "6cc9a043",
   "metadata": {},
   "outputs": [
    {
     "data": {
      "image/png": "[encoded data removed]",
      "text/plain": [
       "<Figure size 432x288 with 1 Axes>"
      ]
     },
     "metadata": {
      "needs_background": "light"
     },
     "output_type": "display_data"
    }
   ],
   "source": [
    "x = np.linspace(0.1, 20, 100)\n",
    "y = x * np.log(x)\n",
    "plt.plot(x, y, color = 'red', linewidth = 2)\n",
    "plt.show()"
   ]
  },
  {
   "cell_type": "code",
   "execution_count": 3,
   "id": "353792e3",
   "metadata": {},
   "outputs": [
    {
     "data": {
      "image/png": "[encoded data removed]",
      "text/plain": [
       "<Figure size 432x288 with 1 Axes>"
      ]
     },
     "metadata": {
      "needs_background": "light"
     },
     "output_type": "display_data"
    }
   ],
   "source": [
    "noise = np.random.randn(20)\n",
    "x_train = (np.random.randint(1, 30, 20) + noise).reshape((-1,1))\n",
    "y_train = x_train * np.log(x_train)\n",
    "plt.scatter(x_train, y_train, linewidth = 3)\n",
    "plt.plot(x, y, color = 'red', linewidth = 2)\n",
    "plt.legend(['Train_Points'])\n",
    "plt.xlabel('x')\n",
    "plt.ylabel('y')\n",
    "plt.title('xlog(x)')\n",
    "plt.show()"
   ]
  },
  {
   "cell_type": "code",
   "execution_count": 4,
   "id": "3c98f6bf",
   "metadata": {},
   "outputs": [],
   "source": [
    "noise2 = np.random.randn(10)\n",
    "x_test = (np.random.randint(1, 25, 10) + noise2).reshape((-1,1))\n",
    "y_test = x_test * np.log(x_test)"
   ]
  },
  {
   "cell_type": "markdown",
   "id": "6ca64eba",
   "metadata": {},
   "source": [
    "# Gaussian Process Regression\n",
    "\n",
    "\n",
    "Rather than using a parametric form for $f({\\mathbf x})$, we will use the values of the latent function that we will model with a Gaussian process\n",
    "\n",
    "$$f({\\mathbf x}) \\sim {\\cal GP}\\left(0,k_f({\\mathbf x}_i,{\\mathbf x}_j)\\right),$$\n",
    "\n",
    "where we are assuming a zero mean, and where we will use the Ornstein-Uhlenbeck covariance function, which is defined as:\n",
    "\n",
    "$$k_f({\\mathbf x}_i,{\\mathbf x}_j) = \\sigma_0^2 \\exp \\left( -\\frac{1}{l}\\|{\\mathbf x}_i-{\\mathbf x}_j\\|\\right)$$\n",
    "\n",
    "First, we will use the following gross estimation for the hyperparameters:\n",
    "\n",
    "\n",
    "As we studied in a previous session, the joint distribution of the target values in the training set, ${\\mathbf s}$, and the latent values corresponding to the test points, ${\\mathbf f}^\\ast$, is given by\n",
    "\n",
    "$$\\left[\\begin{array}{c}{\\bf s}\\\\{\\bf f}^\\ast\\end{array}\\right]~\\sim~{\\cal N}\\left({\\bf 0},\\left[\\begin{array}{cc}{\\bf K} + \\sigma_\\varepsilon^2 {\\bf I}& {\\bf K}_\\ast^\\top \\\\ {\\bf K}_\\ast & {\\bf K}_{\\ast\\ast} \\end{array}\\right]\\right)$$\n",
    "\n",
    "Using this model, obtain the posterior of ${\\mathbf s}^\\ast$ given ${\\mathbf s}$. In particular, calculate the <i>a posteriori</i> predictive mean and standard deviations, ${\\mathbb E}\\left\\{s({\\bf x}^\\ast)\\mid{\\bf s}\\right\\}$ and $\\sqrt{{\\mathbb V}\\left\\{s({\\bf x}^\\ast)\\mid{\\bf s}\\right\\}}$ for each test sample ${\\bf x}^\\ast$.\n"
   ]
  },
  {
   "cell_type": "code",
   "execution_count": 5,
   "id": "1a6d2511",
   "metadata": {},
   "outputs": [],
   "source": [
    "dist = spatial.distance.cdist(x_train, x_train)\n",
    "dist_star_star = spatial.distance.cdist(x_test, x_test)\n",
    "dist_star = spatial.distance.cdist(x_test, x_train)"
   ]
  },
  {
   "cell_type": "code",
   "execution_count": 6,
   "id": "4e3dbb63",
   "metadata": {},
   "outputs": [],
   "source": [
    "sigma_0 = np.std(y_train)\n",
    "sigma_eps = sigma_0 / np.sqrt(10)\n",
    "l = 8\n",
    "K = sigma_0**2 * np.exp(-dist/l)\n",
    "K_star_star = sigma_0**2 * np.exp(-dist_star_star/l)\n",
    "K_star = sigma_0**2 * np.exp(-dist_star/l)"
   ]
  },
  {
   "cell_type": "code",
   "execution_count": 7,
   "id": "726c24b7",
   "metadata": {},
   "outputs": [],
   "source": [
    "m_gp = K_star.dot(np.linalg.inv(K + sigma_eps**2 * np.eye(x_train.shape[0]))).dot(y_train)"
   ]
  },
  {
   "cell_type": "markdown",
   "id": "9e33053a",
   "metadata": {},
   "source": [
    "# Evaluation"
   ]
  },
  {
   "cell_type": "code",
   "execution_count": 10,
   "id": "9999c5ab",
   "metadata": {},
   "outputs": [
    {
     "data": {
      "text/plain": [
       "0.8940059612733139"
      ]
     },
     "execution_count": 10,
     "metadata": {},
     "output_type": "execute_result"
    }
   ],
   "source": [
    "RMSE = (np.mean((m_gp-y_test)**2))**0.5 # Root Mean Square Error\n",
    "RMSE"
   ]
  },
  {
   "cell_type": "code",
   "execution_count": 9,
   "id": "bff0e4bd",
   "metadata": {},
   "outputs": [
    {
     "data": {
      "image/png": "[encoded data removed]",
      "text/plain": [
       "<Figure size 432x288 with 1 Axes>"
      ]
     },
     "metadata": {
      "needs_background": "light"
     },
     "output_type": "display_data"
    }
   ],
   "source": [
    "plt.scatter(x_test, y_test, color = 'red', linewidth = 3)\n",
    "plt.scatter(x_test, m_gp, color = 'yellow')\n",
    "plt.legend(['Actual', 'Predicted'])\n",
    "plt.xlabel('x')\n",
    "plt.ylabel('y')\n",
    "plt.title('xlog(x)')\n",
    "plt.show()"
   ]
  },
  {
   "cell_type": "code",
   "execution_count": null,
   "id": "a6e871ef",
   "metadata": {},
   "outputs": [],
   "source": []
  }
 ],
 "metadata": {
  "kernelspec": {
   "display_name": "Python 3 (ipykernel)",
   "language": "python",
   "name": "python3"
  },
  "language_info": {
   "codemirror_mode": {
    "name": "ipython",
    "version": 3
   },
   "file_extension": ".py",
   "mimetype": "text/x-python",
   "name": "python",
   "nbconvert_exporter": "python",
   "pygments_lexer": "ipython3",
   "version": "3.9.12"
  }
 },
 "nbformat": 4,
 "nbformat_minor": 5
}
